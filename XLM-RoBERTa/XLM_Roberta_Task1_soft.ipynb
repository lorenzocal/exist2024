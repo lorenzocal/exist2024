{
 "cells": [
  {
   "cell_type": "code",
   "execution_count": null,
   "metadata": {
    "id": "N8arRe_WDAQv"
   },
   "outputs": [],
   "source": [
    "# https://huggingface.co/am-azadi/EXIST2024_Task1_xlmRoberta_large_3_16_merged_unshuffled"
   ]
  },
  {
   "cell_type": "code",
   "execution_count": null,
   "metadata": {
    "id": "5gbm7-Ik0ps4"
   },
   "outputs": [],
   "source": [
    "import json\n",
    "from transformers import AutoTokenizer, AutoModelForSequenceClassification\n",
    "import torch"
   ]
  },
  {
   "cell_type": "markdown",
   "metadata": {
    "id": "Aci7AE800ev4"
   },
   "source": [
    "# xlmRoBERTa"
   ]
  },
  {
   "cell_type": "code",
   "execution_count": null,
   "metadata": {
    "id": "ppc2ySKK6wSf"
   },
   "outputs": [],
   "source": [
    "# Load the tokenizer and model\n",
    "model_name = \"am-azadi/EXIST2024_Task1_xlmRoberta_large_3_16_merged_unshuffled\"\n",
    "model = AutoModelForSequenceClassification.from_pretrained(model_name)\n",
    "tokenizer = AutoTokenizer.from_pretrained(model_name)\n",
    "\n",
    "# use the GPU\n",
    "device = torch.device(\"cuda\" if torch.cuda.is_available() else \"cpu\")\n",
    "model.to(device)\n",
    "\n",
    "# Load the dataset\n",
    "with open(\"EXIST2024_dev.json\", \"r\") as file:\n",
    "    data = json.load(file)\n",
    "\n",
    "# Function to preprocess and predict, return the soft predictions\n",
    "def predict_sexism(tweet):\n",
    "    inputs = tokenizer(tweet, return_tensors=\"pt\", truncation=True, max_length=128).to(device)\n",
    "    outputs = model(**inputs)\n",
    "    return torch.softmax(outputs.logits, dim=1).tolist()[0][1]"
   ]
  },
  {
   "cell_type": "code",
   "execution_count": null,
   "metadata": {
    "id": "BIpO8Jbu8XL8"
   },
   "outputs": [],
   "source": [
    "result = [\n",
    "    {\n",
    "        \"test_case\": \"EXIST2024\",\n",
    "        \"id\": tweet[\"id_EXIST\"],  # Use the id directly from subset_data\n",
    "        \"actual\": tweet[\"labels_task1\"].count(\"YES\") / 6,\n",
    "        \"value\": {\"YES\" : predict_sexism(tweet[\"tweet\"]),\n",
    "                  \"NO\" : 1 - predict_sexism(tweet[\"tweet\"])}\n",
    "    }\n",
    "    for tweet in data.values()\n",
    "]"
   ]
  },
  {
   "cell_type": "code",
   "execution_count": null,
   "metadata": {
    "id": "j2rLh13RoulV"
   },
   "outputs": [],
   "source": [
    "# Save the predictions in a Json file\n",
    "with open(\"preds_task1_soft.json\", \"w\") as file:\n",
    "    json.dump(result, file)"
   ]
  }
 ],
 "metadata": {
  "accelerator": "GPU",
  "colab": {
   "gpuType": "T4",
   "provenance": []
  },
  "kernelspec": {
   "display_name": "Python 3",
   "name": "python3"
  },
  "language_info": {
   "name": "python",
   "version": "3.13.0"
  }
 },
 "nbformat": 4,
 "nbformat_minor": 0
}
