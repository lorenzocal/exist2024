{
 "cells": [
  {
   "cell_type": "code",
   "execution_count": null,
   "metadata": {
    "id": "N8arRe_WDAQv"
   },
   "outputs": [],
   "source": [
    "# https://huggingface.co/am-azadi/EXIST2024_Task1_xlmRoberta_large_3_16_merged_unshuffled"
   ]
  },
  {
   "cell_type": "code",
   "execution_count": null,
   "metadata": {
    "id": "5gbm7-Ik0ps4"
   },
   "outputs": [],
   "source": [
    "import json\n",
    "from transformers import AutoTokenizer, AutoModelForSequenceClassification\n",
    "import torch\n",
    "from sklearn import metrics\n",
    "import matplotlib.pyplot as plt"
   ]
  },
  {
   "cell_type": "markdown",
   "metadata": {
    "id": "Aci7AE800ev4"
   },
   "source": [
    "# xlmRoBERTa"
   ]
  },
  {
   "cell_type": "code",
   "execution_count": null,
   "metadata": {
    "id": "ppc2ySKK6wSf"
   },
   "outputs": [],
   "source": [
    "# Load the tokenizer and model\n",
    "model_name = \"am-azadi/EXIST2024_Task1_xlmRoberta_large_3_16_merged_unshuffled\"\n",
    "model = AutoModelForSequenceClassification.from_pretrained(model_name)\n",
    "tokenizer = AutoTokenizer.from_pretrained(model_name)\n",
    "\n",
    "# use the GPU\n",
    "device = torch.device(\"cuda\" if torch.cuda.is_available() else \"cpu\")\n",
    "model.to(device)\n",
    "\n",
    "# Load the dataset\n",
    "with open(\"EXIST2024_dev.json\", \"r\") as file:\n",
    "    data = json.load(file)\n",
    "\n",
    "# Function to preprocess and predict\n",
    "def predict_sexism(tweet):\n",
    "    inputs = tokenizer(tweet, return_tensors=\"pt\", truncation=True, max_length=128)\n",
    "    inputs = inputs.to(device) # FASTER COMPUTATION\n",
    "    outputs = model(**inputs)\n",
    "    logits = outputs.logits\n",
    "    return torch.argmax(logits, dim=-1).item()"
   ]
  },
  {
   "cell_type": "code",
   "execution_count": null,
   "metadata": {
    "id": "BIpO8Jbu8XL8"
   },
   "outputs": [],
   "source": [
    "result = [\n",
    "    {\n",
    "        \"test_case\": \"EXIST2024\",\n",
    "        \"id\": value[\"id_EXIST\"],  # Use the id directly from subset_data\n",
    "        \"actual\": \"YES\" if value[\"labels_task1\"].count(\"YES\") >= 4 else \"NO\",\n",
    "        \"value\": \"YES\" if predict_sexism(value[\"tweet\"]) == 1 else \"NO\",\n",
    "    }\n",
    "    for value in data.values()\n",
    "]"
   ]
  },
  {
   "cell_type": "code",
   "execution_count": null,
   "metadata": {
    "colab": {
     "base_uri": "https://localhost:8080/"
    },
    "executionInfo": {
     "elapsed": 19,
     "status": "ok",
     "timestamp": 1732183664384,
     "user": {
      "displayName": "Adrian MERLE",
      "userId": "06838194476676287338"
     },
     "user_tz": -60
    },
    "id": "OWZ8HO4L8wIw",
    "outputId": "7114c2cc-168d-40cf-bfce-612561617bd4"
   },
   "outputs": [
    {
     "data": {
      "image/png": "[encoded data removed]",
      "text/plain": [
       "<Figure size 640x480 with 2 Axes>"
      ]
     },
     "metadata": {},
     "output_type": "display_data"
    }
   ],
   "source": [
    "# Confusion matrix\n",
    "\n",
    "actual = [item[\"actual\"] for item in result]\n",
    "predicted = [item[\"value\"] for item in result]\n",
    "\n",
    "confusion_matrix = metrics.confusion_matrix(actual, predicted)\n",
    "cm_display = metrics.ConfusionMatrixDisplay(confusion_matrix = confusion_matrix, display_labels = ['YES', 'NO'])\n",
    "\n",
    "cm_display.plot()\n",
    "plt.show()"
   ]
  },
  {
   "cell_type": "code",
   "execution_count": null,
   "metadata": {
    "colab": {
     "base_uri": "https://localhost:8080/"
    },
    "executionInfo": {
     "elapsed": 8,
     "status": "ok",
     "timestamp": 1732183664384,
     "user": {
      "displayName": "Adrian MERLE",
      "userId": "06838194476676287338"
     },
     "user_tz": -60
    },
    "id": "fj8ka24qtRJh",
    "outputId": "cacb902e-ff6e-4453-a762-1b2530e28ef1"
   },
   "outputs": [
    {
     "name": "stdout",
     "output_type": "stream",
     "text": [
      "              precision    recall  f1-score   support\n",
      "\n",
      "          NO       0.90      0.77      0.83       583\n",
      "         YES       0.75      0.89      0.81       455\n",
      "\n",
      "    accuracy                           0.82      1038\n",
      "   macro avg       0.82      0.83      0.82      1038\n",
      "weighted avg       0.83      0.82      0.82      1038\n",
      "\n"
     ]
    }
   ],
   "source": [
    "print(metrics.classification_report(actual, predicted))"
   ]
  },
  {
   "cell_type": "code",
   "execution_count": null,
   "metadata": {
    "id": "_SX20J7PxAYk"
   },
   "outputs": [],
   "source": [
    "# Save the predictions in a Json file\n",
    "with open(\"preds_task1_hard.json\", \"w\") as file:\n",
    "    json.dump(result, file)"
   ]
  }
 ],
 "metadata": {
  "accelerator": "GPU",
  "colab": {
   "gpuType": "T4",
   "provenance": []
  },
  "kernelspec": {
   "display_name": "Python 3",
   "name": "python3"
  },
  "language_info": {
   "name": "python",
   "version": "3.13.0"
  }
 },
 "nbformat": 4,
 "nbformat_minor": 0
}
